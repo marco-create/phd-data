{
 "cells": [
  {
   "cell_type": "code",
   "execution_count": 61,
   "metadata": {},
   "outputs": [],
   "source": [
    "\n",
    "import pandas as pd\n",
    "import glob, os, re\n",
    "import csv"
   ]
  },
  {
   "cell_type": "code",
   "execution_count": 62,
   "metadata": {},
   "outputs": [],
   "source": [
    "\n",
    "CONDITION = 'NARROWVISION'    # NORMALVISION or NARROWVISION\n",
    "CODE_GROUP = 'K_'   # SD or K_ or RP\n",
    "NAME_GROUP = 'Controls'    # Stargardt or Controls or RetinitisPigmentosa\n",
    "\n",
    "csv_files = []\n",
    "subjects_path = f'../../../ViscachafMRI/group - {NAME_GROUP}/retpigm{CODE_GROUP}0*/fMRI/{CONDITION}/logF*/shape*/*.csv'"
   ]
  },
  {
   "cell_type": "code",
   "execution_count": 63,
   "metadata": {},
   "outputs": [],
   "source": [
    "for file in glob.glob(subjects_path):\n",
    "    if re.search(r'\\bshape_dots[B|W]_(V1_2|V10_20|V1|V3)', file):\n",
    "        subject = re.search(fr'\\bretpigm{CODE_GROUP}0(\\d+)', file)\n",
    "        subject = int(subject.group(1).lstrip('0'))\n",
    "            \n",
    "        filename = file\n",
    "        file = os.path.basename(filename)   # single csv file\n",
    "        task_name = os.path.basename(os.path.normpath(filename[:-18]))\n",
    "        with open(filename, 'rt') as f:\n",
    "            reader = csv.reader(f, delimiter=';')\n",
    "            for row in reader:\n",
    "                if 'Overall success rate:' in row: \n",
    "                    # print(f'Subject {subject} in {task_name}: {row[0]} {row[4]}%')\n",
    "                    csv_files.append([subject, task_name, row[4].replace(',','.')])"
   ]
  },
  {
   "cell_type": "code",
   "execution_count": 64,
   "metadata": {},
   "outputs": [],
   "source": [
    "# print(csv_files)\n",
    "final_df = pd.DataFrame(csv_files, columns=[f'{NAME_GROUP.lower()}','task','success(%)'])\n",
    "final_df.to_excel(f'../../../ViscachafMRI/Statistica_viscacha_success_rate/{NAME_GROUP.lower()}_{CONDITION.lower()}_fMRI_success_rate.xlsx')"
   ]
  }
 ],
 "metadata": {
  "kernelspec": {
   "display_name": "Python 3",
   "language": "python",
   "name": "python3"
  },
  "language_info": {
   "codemirror_mode": {
    "name": "ipython",
    "version": 3
   },
   "file_extension": ".py",
   "mimetype": "text/x-python",
   "name": "python",
   "nbconvert_exporter": "python",
   "pygments_lexer": "ipython3",
   "version": "3.8.2"
  },
  "orig_nbformat": 4,
  "vscode": {
   "interpreter": {
    "hash": "537da9892ec29567b7c418bdef1e466219db9192180ccbcabf22c62d6909d273"
   }
  }
 },
 "nbformat": 4,
 "nbformat_minor": 2
}
